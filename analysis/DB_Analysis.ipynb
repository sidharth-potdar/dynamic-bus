{
 "cells": [
  {
   "cell_type": "code",
   "execution_count": 82,
   "metadata": {},
   "outputs": [],
   "source": [
    "import sqlite3\n",
    "import pandas as pd\n",
    "import numpy as np\n",
    "import matplotlib"
   ]
  },
  {
   "cell_type": "markdown",
   "metadata": {},
   "source": [
    "## Connecting to the database"
   ]
  },
  {
   "cell_type": "code",
   "execution_count": 83,
   "metadata": {},
   "outputs": [],
   "source": [
    "db_path = '../db_logging/simlog.db'\n",
    "conn = sqlite3.connect(db_path)\n",
    "c = conn.cursor()"
   ]
  },
  {
   "cell_type": "markdown",
   "metadata": {},
   "source": [
    "## Getting Ride lifecycle"
   ]
  },
  {
   "cell_type": "code",
   "execution_count": 84,
   "metadata": {},
   "outputs": [
    {
     "data": {
      "text/html": [
       "<div>\n",
       "<style scoped>\n",
       "    .dataframe tbody tr th:only-of-type {\n",
       "        vertical-align: middle;\n",
       "    }\n",
       "\n",
       "    .dataframe tbody tr th {\n",
       "        vertical-align: top;\n",
       "    }\n",
       "\n",
       "    .dataframe thead th {\n",
       "        text-align: right;\n",
       "    }\n",
       "</style>\n",
       "<table border=\"1\" class=\"dataframe\">\n",
       "  <thead>\n",
       "    <tr style=\"text-align: right;\">\n",
       "      <th></th>\n",
       "      <th>Sim_ID</th>\n",
       "      <th>Ride_ID</th>\n",
       "      <th>Origin</th>\n",
       "      <th>Destination</th>\n",
       "      <th>Request_TS</th>\n",
       "      <th>Schedule_TS</th>\n",
       "      <th>Pickup_TS</th>\n",
       "      <th>Dropoff_TS</th>\n",
       "    </tr>\n",
       "  </thead>\n",
       "  <tbody>\n",
       "    <tr>\n",
       "      <td>0</td>\n",
       "      <td>1</td>\n",
       "      <td>bfbd9a19-3614-47db-a4e2-7ccbc438e747</td>\n",
       "      <td>192</td>\n",
       "      <td>135</td>\n",
       "      <td>6.002083</td>\n",
       "      <td>6.002083</td>\n",
       "      <td>6.002083</td>\n",
       "      <td>12.008175</td>\n",
       "    </tr>\n",
       "    <tr>\n",
       "      <td>1</td>\n",
       "      <td>1</td>\n",
       "      <td>bfbd9a19-3614-47db-a4e2-7ccbc438e747</td>\n",
       "      <td>192</td>\n",
       "      <td>135</td>\n",
       "      <td>6.002083</td>\n",
       "      <td>6.002083</td>\n",
       "      <td>6.029963</td>\n",
       "      <td>12.008175</td>\n",
       "    </tr>\n",
       "    <tr>\n",
       "      <td>2</td>\n",
       "      <td>1</td>\n",
       "      <td>bfbd9a19-3614-47db-a4e2-7ccbc438e747</td>\n",
       "      <td>192</td>\n",
       "      <td>135</td>\n",
       "      <td>6.002083</td>\n",
       "      <td>6.002083</td>\n",
       "      <td>7.145280</td>\n",
       "      <td>12.008175</td>\n",
       "    </tr>\n",
       "    <tr>\n",
       "      <td>3</td>\n",
       "      <td>1</td>\n",
       "      <td>bfbd9a19-3614-47db-a4e2-7ccbc438e747</td>\n",
       "      <td>192</td>\n",
       "      <td>135</td>\n",
       "      <td>6.002083</td>\n",
       "      <td>6.002083</td>\n",
       "      <td>7.145280</td>\n",
       "      <td>12.008175</td>\n",
       "    </tr>\n",
       "    <tr>\n",
       "      <td>4</td>\n",
       "      <td>1</td>\n",
       "      <td>bfbd9a19-3614-47db-a4e2-7ccbc438e747</td>\n",
       "      <td>192</td>\n",
       "      <td>135</td>\n",
       "      <td>6.002083</td>\n",
       "      <td>6.002083</td>\n",
       "      <td>7.145508</td>\n",
       "      <td>12.008175</td>\n",
       "    </tr>\n",
       "  </tbody>\n",
       "</table>\n",
       "</div>"
      ],
      "text/plain": [
       "   Sim_ID                               Ride_ID  Origin  Destination  \\\n",
       "0       1  bfbd9a19-3614-47db-a4e2-7ccbc438e747     192          135   \n",
       "1       1  bfbd9a19-3614-47db-a4e2-7ccbc438e747     192          135   \n",
       "2       1  bfbd9a19-3614-47db-a4e2-7ccbc438e747     192          135   \n",
       "3       1  bfbd9a19-3614-47db-a4e2-7ccbc438e747     192          135   \n",
       "4       1  bfbd9a19-3614-47db-a4e2-7ccbc438e747     192          135   \n",
       "\n",
       "   Request_TS  Schedule_TS  Pickup_TS  Dropoff_TS  \n",
       "0    6.002083     6.002083   6.002083   12.008175  \n",
       "1    6.002083     6.002083   6.029963   12.008175  \n",
       "2    6.002083     6.002083   7.145280   12.008175  \n",
       "3    6.002083     6.002083   7.145280   12.008175  \n",
       "4    6.002083     6.002083   7.145508   12.008175  "
      ]
     },
     "execution_count": 84,
     "metadata": {},
     "output_type": "execute_result"
    }
   ],
   "source": [
    "sim_id_col = \"Requests.sim_id as Sim_ID\"\n",
    "ride_id_col = \"Requests.ride_id as Ride_ID\"\n",
    "origin_node_col = \"Requests.origin_node as Origin\"\n",
    "dest_node_col = \"Requests.dest_node as Destination\"\n",
    "request_ts_col = \"Requests.execute_ts as Request_TS\"\n",
    "schedule_ts_col = \"Schedules.execute_ts as Schedule_TS\"\n",
    "pickup_ts_col = \"Pickups.execute_ts as Pickup_TS\"\n",
    "dropoff_ts_col = \"Dropoffs.execute_ts as Dropoff_TS\"\n",
    "\n",
    "inner_join_str = \"(((Requests INNER JOIN Schedules ON Requests.ride_id = Schedules.ride_id)\" + \\\n",
    "    \"INNER JOIN Pickups ON Requests.ride_id = Pickups.ride_id)\" + \\\n",
    "    \"INNER JOIN Dropoffs ON Requests.ride_id = Dropoffs.ride_id)\"\n",
    "\n",
    "query_str = \"SELECT \" + ','.join([sim_id_col, ride_id_col, origin_node_col, dest_node_col,\n",
    "                                  request_ts_col, schedule_ts_col, pickup_ts_col, dropoff_ts_col]) + \\\n",
    "            \" FROM \" + inner_join_str + \";\"\n",
    "\n",
    "\n",
    "ride_life_cycle = pd.read_sql_query(query_str, conn)\n",
    "ride_life_cycle.head()\n",
    "\n",
    "\n",
    "\n"
   ]
  },
  {
   "cell_type": "markdown",
   "metadata": {},
   "source": [
    "## Checking order of execution of events"
   ]
  },
  {
   "cell_type": "code",
   "execution_count": 85,
   "metadata": {},
   "outputs": [
    {
     "data": {
      "text/plain": [
       "Index(['Sim_ID', 'Ride_ID', 'Origin', 'Destination', 'Request_TS',\n",
       "       'Schedule_TS', 'Pickup_TS', 'Dropoff_TS'],\n",
       "      dtype='object')"
      ]
     },
     "execution_count": 85,
     "metadata": {},
     "output_type": "execute_result"
    }
   ],
   "source": [
    "#Column Names\n",
    "ride_life_cycle.columns"
   ]
  },
  {
   "cell_type": "markdown",
   "metadata": {},
   "source": [
    "Are all scheduled time stamps at or after requests?"
   ]
  },
  {
   "cell_type": "code",
   "execution_count": 86,
   "metadata": {},
   "outputs": [
    {
     "data": {
      "text/plain": [
       "True"
      ]
     },
     "execution_count": 86,
     "metadata": {},
     "output_type": "execute_result"
    }
   ],
   "source": [
    "((ride_life_cycle['Schedule_TS'] - ride_life_cycle['Request_TS']) >= 0).all()"
   ]
  },
  {
   "cell_type": "markdown",
   "metadata": {},
   "source": [
    "Are all pickup time stamps at or after schedules?"
   ]
  },
  {
   "cell_type": "code",
   "execution_count": 87,
   "metadata": {},
   "outputs": [
    {
     "data": {
      "text/plain": [
       "True"
      ]
     },
     "execution_count": 87,
     "metadata": {},
     "output_type": "execute_result"
    }
   ],
   "source": [
    "((ride_life_cycle['Pickup_TS'] - ride_life_cycle['Schedule_TS']) >= 0).all()"
   ]
  },
  {
   "cell_type": "markdown",
   "metadata": {},
   "source": [
    "Are all dropoff time stamps after pickup_ts_col schedules?"
   ]
  },
  {
   "cell_type": "code",
   "execution_count": 88,
   "metadata": {},
   "outputs": [
    {
     "data": {
      "text/plain": [
       "False"
      ]
     },
     "execution_count": 88,
     "metadata": {},
     "output_type": "execute_result"
    }
   ],
   "source": [
    "((ride_life_cycle['Dropoff_TS'] - ride_life_cycle['Pickup_TS']) > 0).all()"
   ]
  },
  {
   "cell_type": "code",
   "execution_count": 89,
   "metadata": {},
   "outputs": [],
   "source": [
    "problematic_rows = ride_life_cycle[ride_life_cycle['Dropoff_TS'] - ride_life_cycle['Pickup_TS'] < 0]"
   ]
  },
  {
   "cell_type": "code",
   "execution_count": 90,
   "metadata": {},
   "outputs": [
    {
     "data": {
      "text/plain": [
       "0.043738898756660746"
      ]
     },
     "execution_count": 90,
     "metadata": {},
     "output_type": "execute_result"
    }
   ],
   "source": [
    "len(problematic_rows)/len(ride_life_cycle)"
   ]
  },
  {
   "cell_type": "code",
   "execution_count": 91,
   "metadata": {},
   "outputs": [],
   "source": [
    "ride_life_cycle[\"Pickup_TO_Dropoff\"] = ride_life_cycle['Dropoff_TS'] - ride_life_cycle['Pickup_TS']"
   ]
  },
  {
   "cell_type": "code",
   "execution_count": 92,
   "metadata": {},
   "outputs": [
    {
     "data": {
      "text/html": [
       "<div>\n",
       "<style scoped>\n",
       "    .dataframe tbody tr th:only-of-type {\n",
       "        vertical-align: middle;\n",
       "    }\n",
       "\n",
       "    .dataframe tbody tr th {\n",
       "        vertical-align: top;\n",
       "    }\n",
       "\n",
       "    .dataframe thead th {\n",
       "        text-align: right;\n",
       "    }\n",
       "</style>\n",
       "<table border=\"1\" class=\"dataframe\">\n",
       "  <thead>\n",
       "    <tr style=\"text-align: right;\">\n",
       "      <th></th>\n",
       "      <th>Sim_ID</th>\n",
       "      <th>Ride_ID</th>\n",
       "      <th>Origin</th>\n",
       "      <th>Destination</th>\n",
       "      <th>Request_TS</th>\n",
       "      <th>Schedule_TS</th>\n",
       "      <th>Pickup_TS</th>\n",
       "      <th>Dropoff_TS</th>\n",
       "      <th>Pickup_TO_Dropoff</th>\n",
       "    </tr>\n",
       "  </thead>\n",
       "  <tbody>\n",
       "    <tr>\n",
       "      <td>4342</td>\n",
       "      <td>7</td>\n",
       "      <td>638e3736-659e-4b6f-ab26-3b309564e374</td>\n",
       "      <td>7</td>\n",
       "      <td>105</td>\n",
       "      <td>6.238773</td>\n",
       "      <td>6.238773</td>\n",
       "      <td>8.212029</td>\n",
       "      <td>6.269135</td>\n",
       "      <td>-1.942894</td>\n",
       "    </tr>\n",
       "    <tr>\n",
       "      <td>4252</td>\n",
       "      <td>7</td>\n",
       "      <td>31cb1047-add4-4c4b-b694-6868b9f0dbf6</td>\n",
       "      <td>105</td>\n",
       "      <td>7</td>\n",
       "      <td>6.063583</td>\n",
       "      <td>6.063583</td>\n",
       "      <td>7.729884</td>\n",
       "      <td>6.095328</td>\n",
       "      <td>-1.634556</td>\n",
       "    </tr>\n",
       "    <tr>\n",
       "      <td>3826</td>\n",
       "      <td>5</td>\n",
       "      <td>9b3123f4-e1c8-4c9c-b865-953950a0ee2f</td>\n",
       "      <td>186</td>\n",
       "      <td>190</td>\n",
       "      <td>6.063147</td>\n",
       "      <td>6.063147</td>\n",
       "      <td>7.700812</td>\n",
       "      <td>6.139801</td>\n",
       "      <td>-1.561011</td>\n",
       "    </tr>\n",
       "    <tr>\n",
       "      <td>3828</td>\n",
       "      <td>5</td>\n",
       "      <td>43ce6a0f-0695-4a91-9f64-c8c918d66ec0</td>\n",
       "      <td>198</td>\n",
       "      <td>137</td>\n",
       "      <td>6.067800</td>\n",
       "      <td>6.067800</td>\n",
       "      <td>7.899658</td>\n",
       "      <td>6.628247</td>\n",
       "      <td>-1.271411</td>\n",
       "    </tr>\n",
       "    <tr>\n",
       "      <td>3825</td>\n",
       "      <td>5</td>\n",
       "      <td>48066614-f5f9-4294-99f5-7da9f6d6e69b</td>\n",
       "      <td>186</td>\n",
       "      <td>190</td>\n",
       "      <td>6.063147</td>\n",
       "      <td>6.063147</td>\n",
       "      <td>7.387424</td>\n",
       "      <td>6.139801</td>\n",
       "      <td>-1.247623</td>\n",
       "    </tr>\n",
       "    <tr>\n",
       "      <td>...</td>\n",
       "      <td>...</td>\n",
       "      <td>...</td>\n",
       "      <td>...</td>\n",
       "      <td>...</td>\n",
       "      <td>...</td>\n",
       "      <td>...</td>\n",
       "      <td>...</td>\n",
       "      <td>...</td>\n",
       "      <td>...</td>\n",
       "    </tr>\n",
       "    <tr>\n",
       "      <td>1048</td>\n",
       "      <td>1</td>\n",
       "      <td>14761256-c07d-4be0-8cb3-b89d00f65232</td>\n",
       "      <td>129</td>\n",
       "      <td>223</td>\n",
       "      <td>6.304359</td>\n",
       "      <td>6.304359</td>\n",
       "      <td>6.307738</td>\n",
       "      <td>13.029666</td>\n",
       "      <td>6.721927</td>\n",
       "    </tr>\n",
       "    <tr>\n",
       "      <td>1047</td>\n",
       "      <td>1</td>\n",
       "      <td>14761256-c07d-4be0-8cb3-b89d00f65232</td>\n",
       "      <td>129</td>\n",
       "      <td>223</td>\n",
       "      <td>6.304359</td>\n",
       "      <td>6.304359</td>\n",
       "      <td>6.305989</td>\n",
       "      <td>13.029666</td>\n",
       "      <td>6.723677</td>\n",
       "    </tr>\n",
       "    <tr>\n",
       "      <td>1046</td>\n",
       "      <td>1</td>\n",
       "      <td>14761256-c07d-4be0-8cb3-b89d00f65232</td>\n",
       "      <td>129</td>\n",
       "      <td>223</td>\n",
       "      <td>6.304359</td>\n",
       "      <td>6.304359</td>\n",
       "      <td>6.305753</td>\n",
       "      <td>13.029666</td>\n",
       "      <td>6.723913</td>\n",
       "    </tr>\n",
       "    <tr>\n",
       "      <td>1045</td>\n",
       "      <td>1</td>\n",
       "      <td>14761256-c07d-4be0-8cb3-b89d00f65232</td>\n",
       "      <td>129</td>\n",
       "      <td>223</td>\n",
       "      <td>6.304359</td>\n",
       "      <td>6.304359</td>\n",
       "      <td>6.304359</td>\n",
       "      <td>13.029666</td>\n",
       "      <td>6.725306</td>\n",
       "    </tr>\n",
       "    <tr>\n",
       "      <td>1949</td>\n",
       "      <td>1</td>\n",
       "      <td>a5e9e066-02b6-48da-bd39-28164e3dc9c2</td>\n",
       "      <td>203</td>\n",
       "      <td>105</td>\n",
       "      <td>6.655521</td>\n",
       "      <td>6.655521</td>\n",
       "      <td>6.655521</td>\n",
       "      <td>13.986939</td>\n",
       "      <td>7.331418</td>\n",
       "    </tr>\n",
       "  </tbody>\n",
       "</table>\n",
       "<p>4504 rows × 9 columns</p>\n",
       "</div>"
      ],
      "text/plain": [
       "      Sim_ID                               Ride_ID  Origin  Destination  \\\n",
       "4342       7  638e3736-659e-4b6f-ab26-3b309564e374       7          105   \n",
       "4252       7  31cb1047-add4-4c4b-b694-6868b9f0dbf6     105            7   \n",
       "3826       5  9b3123f4-e1c8-4c9c-b865-953950a0ee2f     186          190   \n",
       "3828       5  43ce6a0f-0695-4a91-9f64-c8c918d66ec0     198          137   \n",
       "3825       5  48066614-f5f9-4294-99f5-7da9f6d6e69b     186          190   \n",
       "...      ...                                   ...     ...          ...   \n",
       "1048       1  14761256-c07d-4be0-8cb3-b89d00f65232     129          223   \n",
       "1047       1  14761256-c07d-4be0-8cb3-b89d00f65232     129          223   \n",
       "1046       1  14761256-c07d-4be0-8cb3-b89d00f65232     129          223   \n",
       "1045       1  14761256-c07d-4be0-8cb3-b89d00f65232     129          223   \n",
       "1949       1  a5e9e066-02b6-48da-bd39-28164e3dc9c2     203          105   \n",
       "\n",
       "      Request_TS  Schedule_TS  Pickup_TS  Dropoff_TS  Pickup_TO_Dropoff  \n",
       "4342    6.238773     6.238773   8.212029    6.269135          -1.942894  \n",
       "4252    6.063583     6.063583   7.729884    6.095328          -1.634556  \n",
       "3826    6.063147     6.063147   7.700812    6.139801          -1.561011  \n",
       "3828    6.067800     6.067800   7.899658    6.628247          -1.271411  \n",
       "3825    6.063147     6.063147   7.387424    6.139801          -1.247623  \n",
       "...          ...          ...        ...         ...                ...  \n",
       "1048    6.304359     6.304359   6.307738   13.029666           6.721927  \n",
       "1047    6.304359     6.304359   6.305989   13.029666           6.723677  \n",
       "1046    6.304359     6.304359   6.305753   13.029666           6.723913  \n",
       "1045    6.304359     6.304359   6.304359   13.029666           6.725306  \n",
       "1949    6.655521     6.655521   6.655521   13.986939           7.331418  \n",
       "\n",
       "[4504 rows x 9 columns]"
      ]
     },
     "execution_count": 92,
     "metadata": {},
     "output_type": "execute_result"
    }
   ],
   "source": [
    "ride_life_cycle.sort_values(by='Pickup_TO_Dropoff')"
   ]
  },
  {
   "cell_type": "code",
   "execution_count": 93,
   "metadata": {},
   "outputs": [
    {
     "data": {
      "text/plain": [
       "4504"
      ]
     },
     "execution_count": 93,
     "metadata": {},
     "output_type": "execute_result"
    }
   ],
   "source": [
    "len(ride_life_cycle)"
   ]
  },
  {
   "cell_type": "code",
   "execution_count": 95,
   "metadata": {},
   "outputs": [
    {
     "data": {
      "text/plain": [
       "Sim_ID                 int64\n",
       "Ride_ID               object\n",
       "Origin                 int64\n",
       "Destination            int64\n",
       "Request_TS           float64\n",
       "Schedule_TS          float64\n",
       "Pickup_TS            float64\n",
       "Dropoff_TS           float64\n",
       "Pickup_TO_Dropoff    float64\n",
       "dtype: object"
      ]
     },
     "execution_count": 95,
     "metadata": {},
     "output_type": "execute_result"
    }
   ],
   "source": [
    "ride_life_cycle.dtypes"
   ]
  },
  {
   "cell_type": "markdown",
   "metadata": {},
   "source": [
    "## Closing the database."
   ]
  },
  {
   "cell_type": "code",
   "execution_count": 94,
   "metadata": {},
   "outputs": [],
   "source": [
    "c.close()\n",
    "conn.close()"
   ]
  },
  {
   "cell_type": "code",
   "execution_count": null,
   "metadata": {},
   "outputs": [],
   "source": []
  }
 ],
 "metadata": {
  "kernelspec": {
   "display_name": "Python 3",
   "language": "python",
   "name": "python3"
  },
  "language_info": {
   "codemirror_mode": {
    "name": "ipython",
    "version": 3
   },
   "file_extension": ".py",
   "mimetype": "text/x-python",
   "name": "python",
   "nbconvert_exporter": "python",
   "pygments_lexer": "ipython3",
   "version": "3.7.3"
  }
 },
 "nbformat": 4,
 "nbformat_minor": 2
}
